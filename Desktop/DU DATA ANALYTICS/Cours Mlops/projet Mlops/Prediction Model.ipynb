{
 "cells": [
  {
   "cell_type": "code",
   "execution_count": 2,
   "id": "64e0b1b8-e82c-4e51-9be3-e7356560ff91",
   "metadata": {},
   "outputs": [],
   "source": [
    "import pandas as pd\n",
    "import matplotlib.pyplot as plt\n",
    "import seaborn as sns\n",
    "import mlflow\n",
    "import numpy as np\n",
    "from sklearn.model_selection import train_test_split\n",
    "from sklearn.preprocessing import StandardScaler\n",
    "from sklearn.linear_model import LogisticRegression\n",
    "from sklearn.metrics import accuracy_score, classification_report"
   ]
  },
  {
   "cell_type": "code",
   "execution_count": 3,
   "id": "8151636b-c019-41a3-8286-f9eac6161a2c",
   "metadata": {},
   "outputs": [],
   "source": [
    "file_path = \"C:/Users/User/Desktop/DU DATA ANALYTICS/Cours Mlops/projet Mlops/df.csv\"  \n",
    "df1 = pd.read_csv(file_path)"
   ]
  },
  {
   "cell_type": "code",
   "execution_count": 4,
   "id": "d1395838-240e-4f9e-af7e-39c6eeeeb83d",
   "metadata": {},
   "outputs": [
    {
     "data": {
      "text/html": [
       "<div>\n",
       "<style scoped>\n",
       "    .dataframe tbody tr th:only-of-type {\n",
       "        vertical-align: middle;\n",
       "    }\n",
       "\n",
       "    .dataframe tbody tr th {\n",
       "        vertical-align: top;\n",
       "    }\n",
       "\n",
       "    .dataframe thead th {\n",
       "        text-align: right;\n",
       "    }\n",
       "</style>\n",
       "<table border=\"1\" class=\"dataframe\">\n",
       "  <thead>\n",
       "    <tr style=\"text-align: right;\">\n",
       "      <th></th>\n",
       "      <th>credit_lines_outstanding</th>\n",
       "      <th>loan_amt_outstanding</th>\n",
       "      <th>total_debt_outstanding</th>\n",
       "      <th>income</th>\n",
       "      <th>years_employed</th>\n",
       "      <th>fico_score</th>\n",
       "      <th>default</th>\n",
       "    </tr>\n",
       "  </thead>\n",
       "  <tbody>\n",
       "    <tr>\n",
       "      <th>0</th>\n",
       "      <td>-0.837960</td>\n",
       "      <td>0.747096</td>\n",
       "      <td>-0.724848</td>\n",
       "      <td>0.398555</td>\n",
       "      <td>0.285425</td>\n",
       "      <td>-0.536770</td>\n",
       "      <td>False</td>\n",
       "    </tr>\n",
       "    <tr>\n",
       "      <th>1</th>\n",
       "      <td>2.029409</td>\n",
       "      <td>-1.548375</td>\n",
       "      <td>-0.073967</td>\n",
       "      <td>-2.161876</td>\n",
       "      <td>-1.629325</td>\n",
       "      <td>-1.080832</td>\n",
       "      <td>True</td>\n",
       "    </tr>\n",
       "    <tr>\n",
       "      <th>2</th>\n",
       "      <td>-0.837960</td>\n",
       "      <td>-0.560509</td>\n",
       "      <td>-1.009696</td>\n",
       "      <td>-0.207919</td>\n",
       "      <td>-0.352825</td>\n",
       "      <td>-0.586230</td>\n",
       "      <td>False</td>\n",
       "    </tr>\n",
       "    <tr>\n",
       "      <th>3</th>\n",
       "      <td>-0.837960</td>\n",
       "      <td>0.427045</td>\n",
       "      <td>-0.938184</td>\n",
       "      <td>0.215083</td>\n",
       "      <td>0.285425</td>\n",
       "      <td>-0.421363</td>\n",
       "      <td>False</td>\n",
       "    </tr>\n",
       "    <tr>\n",
       "      <th>4</th>\n",
       "      <td>-0.264486</td>\n",
       "      <td>-1.979733</td>\n",
       "      <td>-1.048780</td>\n",
       "      <td>-2.321314</td>\n",
       "      <td>0.923675</td>\n",
       "      <td>-0.108115</td>\n",
       "      <td>False</td>\n",
       "    </tr>\n",
       "  </tbody>\n",
       "</table>\n",
       "</div>"
      ],
      "text/plain": [
       "   credit_lines_outstanding  loan_amt_outstanding  total_debt_outstanding  \\\n",
       "0                 -0.837960              0.747096               -0.724848   \n",
       "1                  2.029409             -1.548375               -0.073967   \n",
       "2                 -0.837960             -0.560509               -1.009696   \n",
       "3                 -0.837960              0.427045               -0.938184   \n",
       "4                 -0.264486             -1.979733               -1.048780   \n",
       "\n",
       "     income  years_employed  fico_score  default  \n",
       "0  0.398555        0.285425   -0.536770    False  \n",
       "1 -2.161876       -1.629325   -1.080832     True  \n",
       "2 -0.207919       -0.352825   -0.586230    False  \n",
       "3  0.215083        0.285425   -0.421363    False  \n",
       "4 -2.321314        0.923675   -0.108115    False  "
      ]
     },
     "execution_count": 4,
     "metadata": {},
     "output_type": "execute_result"
    }
   ],
   "source": [
    "df1.head()"
   ]
  },
  {
   "cell_type": "code",
   "execution_count": 5,
   "id": "74767129-ee61-4738-a47b-a55942dfef70",
   "metadata": {},
   "outputs": [],
   "source": [
    "# Séparation des données\n",
    "X = df1.drop('default', axis=1)\n",
    "y = df1['default']\n",
    "X_train, X_test, y_train, y_test = train_test_split(X, y, test_size=0.2, random_state=42)"
   ]
  },
  {
   "cell_type": "code",
   "execution_count": 7,
   "id": "be7c0395-3ed6-4fee-8bdd-952e5c92a475",
   "metadata": {},
   "outputs": [
    {
     "name": "stdout",
     "output_type": "stream",
     "text": [
      "Accuracy: 0.996\n",
      "              precision    recall  f1-score   support\n",
      "\n",
      "       False       1.00      1.00      1.00      1652\n",
      "        True       1.00      0.98      0.99       348\n",
      "\n",
      "    accuracy                           1.00      2000\n",
      "   macro avg       1.00      0.99      0.99      2000\n",
      "weighted avg       1.00      1.00      1.00      2000\n",
      "\n"
     ]
    },
    {
     "name": "stderr",
     "output_type": "stream",
     "text": [
      "2025/03/20 16:57:04 WARNING mlflow.models.model: Model logged without a signature and input example. Please set `input_example` parameter when logging the model to auto infer the model signature.\n"
     ]
    },
    {
     "data": {
      "image/png": "[encoded data removed]",
      "text/plain": [
       "<Figure size 600x400 with 2 Axes>"
      ]
     },
     "metadata": {},
     "output_type": "display_data"
    }
   ],
   "source": [
    "# Modélisation avec Logistic Regression\n",
    "from sklearn.metrics import confusion_matrix\n",
    "\n",
    "with mlflow.start_run():\n",
    "    model = LogisticRegression()\n",
    "    model.fit(X_train, y_train)\n",
    "    \n",
    "    # Prédictions\n",
    "    y_pred = model.predict(X_test)\n",
    "    \n",
    "    # Évaluation du modèle\n",
    "    accuracy = accuracy_score(y_test, y_pred)\n",
    "    print(\"Accuracy:\", accuracy)\n",
    "    print(classification_report(y_test, y_pred))\n",
    "    \n",
    "    # Log des métriques dans MLflow\n",
    "    mlflow.log_param(\"model\", \"LogisticRegression\")\n",
    "    mlflow.log_metric(\"accuracy\", accuracy)\n",
    "    \n",
    "    # Sauvegarde du modèle\n",
    "    mlflow.sklearn.log_model(model, \"loan_default_model\")\n",
    "\n",
    "    # Matrice de confusion\n",
    "    cm = confusion_matrix(y_test, y_pred)\n",
    "    plt.figure(figsize=(6, 4))\n",
    "    sns.heatmap(cm, annot=True, fmt='d', cmap='Blues', xticklabels=[\"Non-Défaut\", \"Défaut\"], yticklabels=[\"Non-Défaut\", \"Défaut\"])\n",
    "    plt.xlabel(\"Predict labels\")\n",
    "    plt.ylabel(\"True labels \")\n",
    "    plt.title(\"Matrice de Confusion\")\n",
    "    plt.show()\n"
   ]
  }
 ],
 "metadata": {
  "kernelspec": {
   "display_name": "Python 3",
   "language": "python",
   "name": "python3"
  },
  "language_info": {
   "codemirror_mode": {
    "name": "ipython",
    "version": 3
   },
   "file_extension": ".py",
   "mimetype": "text/x-python",
   "name": "python",
   "nbconvert_exporter": "python",
   "pygments_lexer": "ipython3",
   "version": "3.11.9"
  }
 },
 "nbformat": 4,
 "nbformat_minor": 5
}
