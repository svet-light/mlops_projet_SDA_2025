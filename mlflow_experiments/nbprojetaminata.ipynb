{
 "cells": [
  {
   "cell_type": "code",
   "execution_count": 17,
   "metadata": {},
   "outputs": [
    {
     "name": "stderr",
     "output_type": "stream",
     "text": [
      "2025/03/23 15:51:47 INFO mlflow.tracking.fluent: Experiment with name 'LogisticRegression-Loan' does not exist. Creating a new experiment.\n"
     ]
    },
    {
     "name": "stdout",
     "output_type": "stream",
     "text": [
      "\n",
      "➡️ Training LogisticRegression avec params: {'C': 1.0, 'solver': 'liblinear'}\n"
     ]
    },
    {
     "name": "stderr",
     "output_type": "stream",
     "text": [
      "\u001b[31m2025/03/23 15:51:50 WARNING mlflow.models.model: Model logged without a signature and input example. Please set `input_example` parameter when logging the model to auto infer the model signature.\u001b[0m\n"
     ]
    },
    {
     "name": "stdout",
     "output_type": "stream",
     "text": [
      "🏃 View run whimsical-gnu-580 at: http://localhost:5002/#/experiments/1/runs/e8cb20f0da5348a1982fb5c1282e5f71\n",
      "🧪 View experiment at: http://localhost:5002/#/experiments/1\n",
      "\n",
      "➡️ Training LogisticRegression avec params: {'C': 0.1, 'solver': 'liblinear'}\n"
     ]
    },
    {
     "name": "stderr",
     "output_type": "stream",
     "text": [
      "\u001b[31m2025/03/23 15:51:53 WARNING mlflow.models.model: Model logged without a signature and input example. Please set `input_example` parameter when logging the model to auto infer the model signature.\u001b[0m\n"
     ]
    },
    {
     "name": "stdout",
     "output_type": "stream",
     "text": [
      "🏃 View run casual-seal-833 at: http://localhost:5002/#/experiments/1/runs/5c361b69048f4dde88e9992129373b8b\n",
      "🧪 View experiment at: http://localhost:5002/#/experiments/1\n",
      "\n",
      "➡️ Training LogisticRegression avec params: {'C': 10.0, 'solver': 'lbfgs', 'max_iter': 1000}\n"
     ]
    },
    {
     "name": "stderr",
     "output_type": "stream",
     "text": [
      "\u001b[31m2025/03/23 15:51:55 WARNING mlflow.models.model: Model logged without a signature and input example. Please set `input_example` parameter when logging the model to auto infer the model signature.\u001b[0m\n"
     ]
    },
    {
     "name": "stdout",
     "output_type": "stream",
     "text": [
      "🏃 View run popular-snake-978 at: http://localhost:5002/#/experiments/1/runs/744add568a3f4bdba3b9f8b4f6c453a3\n",
      "🧪 View experiment at: http://localhost:5002/#/experiments/1\n",
      "Tous les runs sont loggés dans MLflow. Vérifie sur : http://localhost:5002\n"
     ]
    }
   ],
   "source": [
    "import mlflow\n",
    "import pandas as pd\n",
    "import numpy as np\n",
    "import matplotlib.pyplot as plt\n",
    "import seaborn as sns\n",
    "import os\n",
    "from sklearn.model_selection import train_test_split, GridSearchCV\n",
    "from sklearn.linear_model import LogisticRegression\n",
    "from sklearn.metrics import accuracy_score, precision_score, recall_score, confusion_matrix\n",
    "import mlflow.sklearn\n",
    "\n",
    "# Configuration de MLflow\n",
    "mlflow.set_tracking_uri(\"http://localhost:5002\")\n",
    "mlflow.set_experiment(\"LogisticRegression-Loan\")\n",
    "\n",
    "# Chargement des données\n",
    "df = pd.read_csv(\"Loan_Data.csv\")\n",
    "\n",
    "# Préparation des données\n",
    "X = df.drop(['customer_id', 'default'], axis=1)\n",
    "y = df['default']\n",
    "\n",
    "X_train, X_test, y_train, y_test = train_test_split(X, y, test_size=0.3, random_state=42)\n",
    "\n",
    "# Grille de paramètres\n",
    "param_grid = [\n",
    "    {\"C\": 1.0, \"solver\": \"liblinear\"},\n",
    "    {\"C\": 0.1, \"solver\": \"liblinear\"},\n",
    "    {\"C\": 10.0, \"solver\": \"lbfgs\", \"max_iter\": 1000},\n",
    "]\n",
    "\n",
    "# Répertoire de sortie pour les artefacts\n",
    "output_dir = \"/tmp/mlflow_outputs\"\n",
    "os.makedirs(output_dir, exist_ok=True)\n",
    "\n",
    "# Entraînement et logging des modèles\n",
    "for params in param_grid:\n",
    "    with mlflow.start_run():\n",
    "        print(f\"\\n➡️ Training LogisticRegression avec params: {params}\")\n",
    "\n",
    "        # Modèle\n",
    "        model = LogisticRegression(**params)\n",
    "        model.fit(X_train, y_train)\n",
    "\n",
    "        # Prédiction\n",
    "        y_pred = model.predict(X_test)\n",
    "\n",
    "        # Métriques\n",
    "        acc = accuracy_score(y_test, y_pred)\n",
    "        precision = precision_score(y_test, y_pred)\n",
    "        recall = recall_score(y_test, y_pred)\n",
    "\n",
    "        # Log hyperparamètres & métriques\n",
    "        mlflow.log_params(params)\n",
    "        mlflow.log_metric(\"Accuracy\", acc)\n",
    "        mlflow.log_metric(\"Precision\", precision)\n",
    "        mlflow.log_metric(\"Recall\", recall)\n",
    "\n",
    "        mlflow.sklearn.log_model(model, \"model\")\n",
    "\n",
    "        # Matrice de confusion\n",
    "        cm = confusion_matrix(y_test, y_pred)\n",
    "        plt.figure(figsize=(5, 4))\n",
    "        sns.heatmap(cm, annot=True, fmt='d', cmap='Blues')\n",
    "        plt.xlabel(\"Prédictions\")\n",
    "        plt.ylabel(\"Vraies valeurs\")\n",
    "        plt.title(\"Matrice de confusion\")\n",
    "        plt.tight_layout()\n",
    "\n",
    "        image_path = os.path.join(output_dir, \"confusion_matrix.png\")\n",
    "        plt.savefig(image_path)\n",
    "        plt.close()\n",
    "\n",
    "        # Log dans MLflow\n",
    "        mlflow.log_artifact(image_path)\n",
    "        os.remove(image_path)  # Nettoyage après log\n",
    "\n",
    "print(\"Tous les runs sont loggés dans MLflow. Vérifie sur : http://localhost:5002\")\n"
   ]
  },
  {
   "cell_type": "code",
   "execution_count": null,
   "metadata": {},
   "outputs": [
    {
     "data": {
      "application/vnd.jupyter.widget-view+json": {
       "model_id": "749d56add3a547938c711bc138435d73",
       "version_major": 2,
       "version_minor": 0
      },
      "text/plain": [
       "Downloading artifacts:   0%|          | 0/5 [00:00<?, ?it/s]"
      ]
     },
     "metadata": {},
     "output_type": "display_data"
    },
    {
     "ename": "KeyboardInterrupt",
     "evalue": "",
     "output_type": "error",
     "traceback": [
      "\u001b[0;31m---------------------------------------------------------------------------\u001b[0m",
      "\u001b[0;31mKeyboardInterrupt\u001b[0m                         Traceback (most recent call last)",
      "Cell \u001b[0;32mIn[16], line 17\u001b[0m\n\u001b[1;32m     15\u001b[0m \u001b[38;5;66;03m# Téléchargement des artefacts\u001b[39;00m\n\u001b[1;32m     16\u001b[0m client \u001b[38;5;241m=\u001b[39m mlflow\u001b[38;5;241m.\u001b[39mtracking\u001b[38;5;241m.\u001b[39mMlflowClient()\n\u001b[0;32m---> 17\u001b[0m client\u001b[38;5;241m.\u001b[39mdownload_artifacts(run_id, artifact_path, local_dir)\n\u001b[1;32m     19\u001b[0m \u001b[38;5;28mprint\u001b[39m(\u001b[38;5;124mf\u001b[39m\u001b[38;5;124m\"\u001b[39m\u001b[38;5;124mArtefacts téléchargés dans \u001b[39m\u001b[38;5;132;01m{\u001b[39;00mlocal_dir\u001b[38;5;132;01m}\u001b[39;00m\u001b[38;5;124m\"\u001b[39m)\n",
      "File \u001b[0;32m/opt/anaconda3/lib/python3.12/site-packages/mlflow/tracking/client.py:2866\u001b[0m, in \u001b[0;36mMlflowClient.download_artifacts\u001b[0;34m(self, run_id, path, dst_path)\u001b[0m\n\u001b[1;32m   2819\u001b[0m \u001b[38;5;28;01mdef\u001b[39;00m \u001b[38;5;21mdownload_artifacts\u001b[39m(\u001b[38;5;28mself\u001b[39m, run_id: \u001b[38;5;28mstr\u001b[39m, path: \u001b[38;5;28mstr\u001b[39m, dst_path: Optional[\u001b[38;5;28mstr\u001b[39m] \u001b[38;5;241m=\u001b[39m \u001b[38;5;28;01mNone\u001b[39;00m) \u001b[38;5;241m-\u001b[39m\u001b[38;5;241m>\u001b[39m \u001b[38;5;28mstr\u001b[39m:\n\u001b[1;32m   2820\u001b[0m \u001b[38;5;250m    \u001b[39m\u001b[38;5;124;03m\"\"\"\u001b[39;00m\n\u001b[1;32m   2821\u001b[0m \u001b[38;5;124;03m    Download an artifact file or directory from a run to a local directory if applicable,\u001b[39;00m\n\u001b[1;32m   2822\u001b[0m \u001b[38;5;124;03m    and return a local path for it.\u001b[39;00m\n\u001b[0;32m   (...)\u001b[0m\n\u001b[1;32m   2864\u001b[0m \u001b[38;5;124;03m        Artifacts: ['features.txt']\u001b[39;00m\n\u001b[1;32m   2865\u001b[0m \u001b[38;5;124;03m    \"\"\"\u001b[39;00m\n\u001b[0;32m-> 2866\u001b[0m     \u001b[38;5;28;01mreturn\u001b[39;00m \u001b[38;5;28mself\u001b[39m\u001b[38;5;241m.\u001b[39m_tracking_client\u001b[38;5;241m.\u001b[39mdownload_artifacts(run_id, path, dst_path)\n",
      "File \u001b[0;32m/opt/anaconda3/lib/python3.12/site-packages/mlflow/tracking/_tracking_service/client.py:908\u001b[0m, in \u001b[0;36mTrackingServiceClient.download_artifacts\u001b[0;34m(self, run_id, path, dst_path)\u001b[0m\n\u001b[1;32m    891\u001b[0m \u001b[38;5;28;01mdef\u001b[39;00m \u001b[38;5;21mdownload_artifacts\u001b[39m(\u001b[38;5;28mself\u001b[39m, run_id, path, dst_path\u001b[38;5;241m=\u001b[39m\u001b[38;5;28;01mNone\u001b[39;00m):\n\u001b[1;32m    892\u001b[0m \u001b[38;5;250m    \u001b[39m\u001b[38;5;124;03m\"\"\"Download an artifact file or directory from a run to a local directory if applicable,\u001b[39;00m\n\u001b[1;32m    893\u001b[0m \u001b[38;5;124;03m    and return a local path for it.\u001b[39;00m\n\u001b[1;32m    894\u001b[0m \n\u001b[0;32m   (...)\u001b[0m\n\u001b[1;32m    906\u001b[0m \n\u001b[1;32m    907\u001b[0m \u001b[38;5;124;03m    \"\"\"\u001b[39;00m\n\u001b[0;32m--> 908\u001b[0m     \u001b[38;5;28;01mreturn\u001b[39;00m \u001b[38;5;28mself\u001b[39m\u001b[38;5;241m.\u001b[39m_get_artifact_repo(run_id)\u001b[38;5;241m.\u001b[39mdownload_artifacts(path, dst_path)\n",
      "File \u001b[0;32m/opt/anaconda3/lib/python3.12/site-packages/mlflow/store/artifact/artifact_repo.py:295\u001b[0m, in \u001b[0;36mArtifactRepository.download_artifacts\u001b[0;34m(self, artifact_path, dst_path)\u001b[0m\n\u001b[1;32m    293\u001b[0m tracebacks \u001b[38;5;241m=\u001b[39m {}\n\u001b[1;32m    294\u001b[0m \u001b[38;5;28;01mwith\u001b[39;00m ArtifactProgressBar\u001b[38;5;241m.\u001b[39mfiles(desc\u001b[38;5;241m=\u001b[39m\u001b[38;5;124m\"\u001b[39m\u001b[38;5;124mDownloading artifacts\u001b[39m\u001b[38;5;124m\"\u001b[39m, total\u001b[38;5;241m=\u001b[39m\u001b[38;5;28mlen\u001b[39m(futures)) \u001b[38;5;28;01mas\u001b[39;00m pbar:\n\u001b[0;32m--> 295\u001b[0m     \u001b[38;5;28;01mfor\u001b[39;00m f \u001b[38;5;129;01min\u001b[39;00m as_completed(futures):\n\u001b[1;32m    296\u001b[0m         \u001b[38;5;28;01mtry\u001b[39;00m:\n\u001b[1;32m    297\u001b[0m             f\u001b[38;5;241m.\u001b[39mresult()\n",
      "File \u001b[0;32m/opt/anaconda3/lib/python3.12/concurrent/futures/_base.py:243\u001b[0m, in \u001b[0;36mas_completed\u001b[0;34m(fs, timeout)\u001b[0m\n\u001b[1;32m    238\u001b[0m     \u001b[38;5;28;01mif\u001b[39;00m wait_timeout \u001b[38;5;241m<\u001b[39m \u001b[38;5;241m0\u001b[39m:\n\u001b[1;32m    239\u001b[0m         \u001b[38;5;28;01mraise\u001b[39;00m \u001b[38;5;167;01mTimeoutError\u001b[39;00m(\n\u001b[1;32m    240\u001b[0m                 \u001b[38;5;124m'\u001b[39m\u001b[38;5;132;01m%d\u001b[39;00m\u001b[38;5;124m (of \u001b[39m\u001b[38;5;132;01m%d\u001b[39;00m\u001b[38;5;124m) futures unfinished\u001b[39m\u001b[38;5;124m'\u001b[39m \u001b[38;5;241m%\u001b[39m (\n\u001b[1;32m    241\u001b[0m                 \u001b[38;5;28mlen\u001b[39m(pending), total_futures))\n\u001b[0;32m--> 243\u001b[0m waiter\u001b[38;5;241m.\u001b[39mevent\u001b[38;5;241m.\u001b[39mwait(wait_timeout)\n\u001b[1;32m    245\u001b[0m \u001b[38;5;28;01mwith\u001b[39;00m waiter\u001b[38;5;241m.\u001b[39mlock:\n\u001b[1;32m    246\u001b[0m     finished \u001b[38;5;241m=\u001b[39m waiter\u001b[38;5;241m.\u001b[39mfinished_futures\n",
      "File \u001b[0;32m/opt/anaconda3/lib/python3.12/threading.py:655\u001b[0m, in \u001b[0;36mEvent.wait\u001b[0;34m(self, timeout)\u001b[0m\n\u001b[1;32m    653\u001b[0m signaled \u001b[38;5;241m=\u001b[39m \u001b[38;5;28mself\u001b[39m\u001b[38;5;241m.\u001b[39m_flag\n\u001b[1;32m    654\u001b[0m \u001b[38;5;28;01mif\u001b[39;00m \u001b[38;5;129;01mnot\u001b[39;00m signaled:\n\u001b[0;32m--> 655\u001b[0m     signaled \u001b[38;5;241m=\u001b[39m \u001b[38;5;28mself\u001b[39m\u001b[38;5;241m.\u001b[39m_cond\u001b[38;5;241m.\u001b[39mwait(timeout)\n\u001b[1;32m    656\u001b[0m \u001b[38;5;28;01mreturn\u001b[39;00m signaled\n",
      "File \u001b[0;32m/opt/anaconda3/lib/python3.12/threading.py:355\u001b[0m, in \u001b[0;36mCondition.wait\u001b[0;34m(self, timeout)\u001b[0m\n\u001b[1;32m    353\u001b[0m \u001b[38;5;28;01mtry\u001b[39;00m:    \u001b[38;5;66;03m# restore state no matter what (e.g., KeyboardInterrupt)\u001b[39;00m\n\u001b[1;32m    354\u001b[0m     \u001b[38;5;28;01mif\u001b[39;00m timeout \u001b[38;5;129;01mis\u001b[39;00m \u001b[38;5;28;01mNone\u001b[39;00m:\n\u001b[0;32m--> 355\u001b[0m         waiter\u001b[38;5;241m.\u001b[39macquire()\n\u001b[1;32m    356\u001b[0m         gotit \u001b[38;5;241m=\u001b[39m \u001b[38;5;28;01mTrue\u001b[39;00m\n\u001b[1;32m    357\u001b[0m     \u001b[38;5;28;01melse\u001b[39;00m:\n",
      "\u001b[0;31mKeyboardInterrupt\u001b[0m: "
     ]
    }
   ],
   "source": [
    "import mlflow\n",
    "import os\n",
    "\n",
    "# Configuration de MLflow\n",
    "mlflow.set_tracking_uri(\"http://localhost:5002\")\n",
    "\n",
    "# ID du run et chemin de l'artefact\n",
    "run_id = \"d1f9189f01d541279c2564fb7d7c7163\"\n",
    "artifact_path = \"model\"\n",
    "\n",
    "# Chemin local où les artefacts seront téléchargés\n",
    "local_dir = \"/tmp/mlflow_artifacts\"\n",
    "os.makedirs(local_dir, exist_ok=True)\n",
    "\n",
    "# Téléchargement des artefacts\n",
    "client = mlflow.tracking.MlflowClient()\n",
    "client.download_artifacts(run_id, artifact_path, local_dir)\n",
    "\n",
    "print(f\"Artefacts téléchargés dans {local_dir}\")\n"
   ]
  },
  {
   "cell_type": "code",
   "execution_count": null,
   "metadata": {},
   "outputs": [
    {
     "name": "stdout",
     "output_type": "stream",
     "text": [
      "✅ Connexion réussie au serveur MLflow.\n",
      "Expériences trouvées : ['LogisticRegression-Loan', 'Default']\n"
     ]
    }
   ],
   "source": [
    "import mlflow\n",
    "\n",
    "mlflow.set_tracking_uri(\"http://localhost:5001\")\n",
    "\n",
    "# Utilise bien `mlflow.search_experiments()` et non `list_experiments()` car c’est ça qui est supporté\n",
    "try:\n",
    "    experiments = mlflow.search_experiments()\n",
    "    print(\"✅ Connexion réussie au serveur MLflow.\")\n",
    "    print(f\"Expériences trouvées : {[exp.name for exp in experiments]}\")\n",
    "except Exception as e:\n",
    "    print(\"❌ Échec de connexion au serveur MLflow.\")\n",
    "    print(e)\n",
    "\n"
   ]
  },
  {
   "cell_type": "code",
   "execution_count": null,
   "metadata": {},
   "outputs": [
    {
     "name": "stdout",
     "output_type": "stream",
     "text": [
      "✅ Connexion réussie au serveur MLflow.\n",
      "Expériences trouvées : ['LogisticRegression-Loan', 'Default']\n"
     ]
    }
   ],
   "source": [
    "import mlflow\n",
    "\n",
    "mlflow.set_tracking_uri(\"http://localhost:5001\")\n",
    "\n",
    "# Utilise bien `mlflow.search_experiments()` et non `list_experiments()` car c’est ça qui est supporté\n",
    "try:\n",
    "    experiments = mlflow.search_experiments()\n",
    "    print(\"✅ Connexion réussie au serveur MLflow.\")\n",
    "    print(f\"Expériences trouvées : {[exp.name for exp in experiments]}\")\n",
    "except Exception as e:\n",
    "    print(\"❌ Échec de connexion au serveur MLflow.\")\n",
    "    print(e)\n",
    "\n"
   ]
  }
 ],
 "metadata": {
  "kernelspec": {
   "display_name": "base",
   "language": "python",
   "name": "python3"
  },
  "language_info": {
   "codemirror_mode": {
    "name": "ipython",
    "version": 3
   },
   "file_extension": ".py",
   "mimetype": "text/x-python",
   "name": "python",
   "nbconvert_exporter": "python",
   "pygments_lexer": "ipython3",
   "version": "3.12.4"
  }
 },
 "nbformat": 4,
 "nbformat_minor": 2
}
