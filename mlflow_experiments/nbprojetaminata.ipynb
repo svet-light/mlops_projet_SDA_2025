{
 "cells": [
  {
   "cell_type": "code",
   "execution_count": 3,
   "metadata": {},
   "outputs": [
    {
     "name": "stderr",
     "output_type": "stream",
     "text": [
      "<>:95: SyntaxWarning: invalid escape sequence '\\ '\n",
      "<>:95: SyntaxWarning: invalid escape sequence '\\ '\n",
      "/var/folders/7k/tt6zbh8s3hs02rgg21dbldzr0000gn/T/ipykernel_28301/3936058750.py:95: SyntaxWarning: invalid escape sequence '\\ '\n",
      "  print(\"\\ Tous les runs sont loggés ET enregistrés dans le Model Registry ! Vérifie sur : http://localhost:5001\")\n"
     ]
    },
    {
     "name": "stdout",
     "output_type": "stream",
     "text": [
      "\n",
      "➡️ Training LogisticRegression avec params: {'C': 1.0, 'solver': 'liblinear'}\n"
     ]
    },
    {
     "name": "stderr",
     "output_type": "stream",
     "text": [
      "\u001b[31m2025/03/23 14:21:03 WARNING mlflow.models.model: Model logged without a signature and input example. Please set `input_example` parameter when logging the model to auto infer the model signature.\u001b[0m\n",
      "2025/03/23 14:21:03 INFO mlflow.store.model_registry.abstract_store: Waiting up to 300 seconds for model version to finish creation. Model name: Loan_Model_v1, version 1\n"
     ]
    },
    {
     "name": "stdout",
     "output_type": "stream",
     "text": [
      "🏃 View run fun-mole-252 at: http://localhost:5001/#/experiments/790845414201742872/runs/90478842cc674418b54dde296c9d34ca\n",
      "🧪 View experiment at: http://localhost:5001/#/experiments/790845414201742872\n",
      "\n",
      "➡️ Training LogisticRegression avec params: {'C': 0.1, 'solver': 'liblinear'}\n"
     ]
    },
    {
     "name": "stderr",
     "output_type": "stream",
     "text": [
      "\u001b[31m2025/03/23 14:21:05 WARNING mlflow.models.model: Model logged without a signature and input example. Please set `input_example` parameter when logging the model to auto infer the model signature.\u001b[0m\n",
      "2025/03/23 14:21:05 INFO mlflow.store.model_registry.abstract_store: Waiting up to 300 seconds for model version to finish creation. Model name: Loan_Model_v1, version 2\n"
     ]
    },
    {
     "name": "stdout",
     "output_type": "stream",
     "text": [
      "Model déjà enregistré : RESOURCE_ALREADY_EXISTS: Registered Model (name=Loan_Model_v1) already exists.\n",
      "🏃 View run delicate-shark-575 at: http://localhost:5001/#/experiments/790845414201742872/runs/bf9ffb32ad2345d6a054d5f800c6215d\n",
      "🧪 View experiment at: http://localhost:5001/#/experiments/790845414201742872\n",
      "\n",
      "➡️ Training LogisticRegression avec params: {'C': 10.0, 'solver': 'lbfgs', 'max_iter': 1000}\n"
     ]
    },
    {
     "name": "stderr",
     "output_type": "stream",
     "text": [
      "\u001b[31m2025/03/23 14:21:08 WARNING mlflow.models.model: Model logged without a signature and input example. Please set `input_example` parameter when logging the model to auto infer the model signature.\u001b[0m\n",
      "2025/03/23 14:21:08 INFO mlflow.store.model_registry.abstract_store: Waiting up to 300 seconds for model version to finish creation. Model name: Loan_Model_v1, version 3\n"
     ]
    },
    {
     "name": "stdout",
     "output_type": "stream",
     "text": [
      "Model déjà enregistré : RESOURCE_ALREADY_EXISTS: Registered Model (name=Loan_Model_v1) already exists.\n",
      "🏃 View run able-yak-472 at: http://localhost:5001/#/experiments/790845414201742872/runs/016e32a0c2be40cbba4c53be942967fb\n",
      "🧪 View experiment at: http://localhost:5001/#/experiments/790845414201742872\n",
      "\\ Tous les runs sont loggés ET enregistrés dans le Model Registry ! Vérifie sur : http://localhost:5001\n"
     ]
    }
   ],
   "source": [
    "import pandas as pd\n",
    "import numpy as np\n",
    "import matplotlib.pyplot as plt\n",
    "import seaborn as sns\n",
    "import os\n",
    "\n",
    "from sklearn.model_selection import train_test_split\n",
    "from sklearn.linear_model import LogisticRegression\n",
    "from sklearn.metrics import accuracy_score, precision_score, recall_score, confusion_matrix\n",
    "\n",
    "import mlflow\n",
    "import mlflow.sklearn\n",
    "from mlflow.tracking import MlflowClient  # 👈 Ajouté ici\n",
    "\n",
    "# Config MLflow\n",
    "mlflow.set_tracking_uri(\"http://localhost:5001\")\n",
    "mlflow.set_experiment(\"LogisticRegression-Loan\")\n",
    "\n",
    "output_dir = \"/tmp/mlflow_outputs\"\n",
    "os.makedirs(output_dir, exist_ok=True)\n",
    "\n",
    "# Chargement des données\n",
    "df = pd.read_csv(\"Loan_Data.csv\")\n",
    "\n",
    "X = df.drop(['customer_id', 'default'], axis=1)  \n",
    "y = df['default']\n",
    "\n",
    "X_train, X_test, y_train, y_test = train_test_split(X, y, test_size=0.3, random_state=42)\n",
    "\n",
    "param_grid = [\n",
    "    {\"C\": 1.0, \"solver\": \"liblinear\"},\n",
    "    {\"C\": 0.1, \"solver\": \"liblinear\"},\n",
    "    {\"C\": 10.0, \"solver\": \"lbfgs\", \"max_iter\": 1000},\n",
    "]\n",
    "\n",
    "# Boucle d'entraînement\n",
    "for params in param_grid:\n",
    "    with mlflow.start_run() as run:  # 👈 récupération du run pour avoir run_id\n",
    "        print(f\"\\n➡️ Training LogisticRegression avec params: {params}\")\n",
    "        \n",
    "        # Modèle\n",
    "        model = LogisticRegression(**params)\n",
    "        model.fit(X_train, y_train)\n",
    "        \n",
    "        # Prédiction\n",
    "        y_pred = model.predict(X_test)\n",
    "        \n",
    "        # Métriques\n",
    "        acc = accuracy_score(y_test, y_pred)\n",
    "        precision = precision_score(y_test, y_pred)\n",
    "        recall = recall_score(y_test, y_pred)\n",
    "        \n",
    "        # Log hyperparamètres & métriques\n",
    "        mlflow.log_params(params)\n",
    "        mlflow.log_metric(\"Accuracy\", acc)\n",
    "        mlflow.log_metric(\"Precision\", precision)\n",
    "        mlflow.log_metric(\"Recall\", recall)\n",
    "        \n",
    "        # Log du modèle\n",
    "        mlflow.sklearn.log_model(model, \"model\")\n",
    "        \n",
    "        # Log matrice de confusion\n",
    "        cm = confusion_matrix(y_test, y_pred)\n",
    "        plt.figure(figsize=(5,4))\n",
    "        sns.heatmap(cm, annot=True, fmt='d', cmap='Blues')\n",
    "        plt.xlabel(\"Prédictions\")\n",
    "        plt.ylabel(\"Vraies valeurs\")\n",
    "        plt.title(\"Matrice de confusion\")\n",
    "        plt.tight_layout()\n",
    "        \n",
    "        image_path = os.path.join(output_dir, \"confusion_matrix.png\")\n",
    "        plt.savefig(image_path)\n",
    "        plt.close()\n",
    "        mlflow.log_artifact(image_path)\n",
    "        os.remove(image_path)\n",
    "        \n",
    "        ### Enregistrement dans le Model Registry ###\n",
    "        model_name = \"Loan_Model_v1\"\n",
    "        client = MlflowClient()\n",
    "        \n",
    "        # Créer le Registered Model si pas encore créé\n",
    "        try:\n",
    "            client.create_registered_model(model_name)\n",
    "        except Exception as e:\n",
    "            print(f\"Model déjà enregistré : {e}\")\n",
    "        \n",
    "        # Créer une nouvelle version\n",
    "        model_src = f\"{run.info.artifact_uri}/model\"\n",
    "        client.create_model_version(\n",
    "            name=model_name,\n",
    "            source=model_src,\n",
    "            run_id=run.info.run_id\n",
    "        )\n",
    "        \n",
    "print(\"\\ Tous les runs sont loggés ET enregistrés dans le Model Registry ! Vérifie sur : http://localhost:5001\")\n",
    "\n"
   ]
  },
  {
   "cell_type": "code",
   "execution_count": null,
   "metadata": {},
   "outputs": [],
   "source": [
    "import mlflow.sklearn\n",
    "\n",
    "model_uri = \"models:/Loan_Model_v1/Production\"  \n",
    "model = mlflow.sklearn.load_model(model_uri)\n"
   ]
  }
 ],
 "metadata": {
  "kernelspec": {
   "display_name": "base",
   "language": "python",
   "name": "python3"
  },
  "language_info": {
   "codemirror_mode": {
    "name": "ipython",
    "version": 3
   },
   "file_extension": ".py",
   "mimetype": "text/x-python",
   "name": "python",
   "nbconvert_exporter": "python",
   "pygments_lexer": "ipython3",
   "version": "3.12.4"
  }
 },
 "nbformat": 4,
 "nbformat_minor": 2
}
